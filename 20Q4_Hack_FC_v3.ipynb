{
 "cells": [
  {
   "cell_type": "code",
   "execution_count": 1,
   "metadata": {},
   "outputs": [],
   "source": [
    "import os\n",
    "import numpy as np\n",
    "import pandas as pd\n",
    "import tensorflow as tf\n",
    "from sklearn.preprocessing import MinMaxScaler,OneHotEncoder\n",
    "from tensorflow import keras\n",
    "\n",
    "from tensorflow.keras.preprocessing import text_dataset_from_directory\n",
    "from tensorflow.strings import regex_replace\n",
    "from tensorflow.keras.layers.experimental.preprocessing import TextVectorization\n",
    "from tensorflow.keras.models import Sequential\n",
    "from tensorflow.keras import Input\n",
    "from keras.layers import Dense, SimpleRNN, RNN, LSTM,Dropout,Bidirectional,Attention,Embedding,BatchNormalization\n",
    "from keras.optimizers import Adam,SGD,RMSprop,schedules\n",
    "import matplotlib.pyplot as plt\n",
    "plt.style.use('fivethirtyeight')"
   ]
  },
  {
   "cell_type": "code",
   "execution_count": 2,
   "metadata": {},
   "outputs": [],
   "source": [
    "# load dataset\n",
    "dataframe = pd.read_csv(\"hackaton.csv\", header=None)\n",
    "# convert to numpy\n",
    "dataset = dataframe.values\n",
    "# split into input (X) and output (Y) variables, skip Header row\n",
    "X = dataset[1:,0:8]\n",
    "Y = dataset[1:,8].astype(float)"
   ]
  },
  {
   "cell_type": "code",
   "execution_count": 3,
   "metadata": {},
   "outputs": [],
   "source": [
    "enc=OneHotEncoder()\n",
    "enc.fit(X)\n",
    "xhot = enc.transform(X).toarray()\n",
    "#xhot = OneHotEncoder().fit_transform(X).toarray()"
   ]
  },
  {
   "cell_type": "code",
   "execution_count": null,
   "metadata": {},
   "outputs": [],
   "source": [
    "xhot[0].shape[0]\n",
    "#enc.categories_"
   ]
  },
  {
   "cell_type": "code",
   "execution_count": 6,
   "metadata": {},
   "outputs": [
    {
     "data": {
      "text/plain": [
       "array([[0.0401837 ],\n",
       "       [0.04196423],\n",
       "       [0.06070973],\n",
       "       ...,\n",
       "       [0.07688659],\n",
       "       [0.23183342],\n",
       "       [0.09999465]])"
      ]
     },
     "execution_count": 6,
     "metadata": {},
     "output_type": "execute_result"
    }
   ],
   "source": [
    "#Scale the data\n",
    "scaler = MinMaxScaler(feature_range=(0,1))\n",
    "y_train = scaler.fit_transform(Y.reshape(-1, 1))\n"
   ]
  },
  {
   "cell_type": "code",
   "execution_count": 7,
   "metadata": {},
   "outputs": [],
   "source": [
    "x_train=xhot\n",
    "#Convert the x_train and y_train to numpy arrays, Keras needs it for model.fit \n",
    "x_train, y_train = np.array(x_train), np.array(y_train)"
   ]
  },
  {
   "cell_type": "code",
   "execution_count": 8,
   "metadata": {},
   "outputs": [],
   "source": [
    "FC = Sequential()\n",
    "FC.add(Dense(xhot[0].shape[0], activation='relu', input_shape=[xhot[0].shape[0]]))\n",
    "FC.add(Dropout(0.2))\n",
    "FC.add(Dense(xhot[0].shape[0],activation='relu'))\n",
    "FC.add(Dropout(0.2))\n",
    "FC.add(Dense(xhot[0].shape[0], activation='relu'))\n",
    "FC.add(Dropout(0.2))\n",
    "FC.add(Dense(1, activation='linear'))"
   ]
  },
  {
   "cell_type": "code",
   "execution_count": null,
   "metadata": {},
   "outputs": [],
   "source": [
    "FC.summary()"
   ]
  },
  {
   "cell_type": "code",
   "execution_count": 9,
   "metadata": {},
   "outputs": [],
   "source": [
    "#Compile the model\n",
    "lr_schedule = schedules.ExponentialDecay(\n",
    "    initial_learning_rate=0.01,\n",
    "    decay_steps=10000,\n",
    "    decay_rate=0.8)\n",
    "opt = RMSprop(learning_rate=lr_schedule)\n",
    "#opt = RMSprop(learning_rate=4e-3)\n",
    "FC.compile(optimizer=opt, loss='mean_squared_error')"
   ]
  },
  {
   "cell_type": "code",
   "execution_count": 10,
   "metadata": {},
   "outputs": [
    {
     "name": "stdout",
     "output_type": "stream",
     "text": [
      "Epoch 1/100\n",
      "2097/2097 [==============================] - 8s 4ms/step - loss: 0.0162 - val_loss: 0.0027\n",
      "Epoch 2/100\n",
      "2097/2097 [==============================] - 8s 4ms/step - loss: 0.0091 - val_loss: 0.0018\n",
      "Epoch 3/100\n",
      "2097/2097 [==============================] - 8s 4ms/step - loss: 0.0090 - val_loss: 0.0017\n",
      "Epoch 4/100\n",
      "2097/2097 [==============================] - 8s 4ms/step - loss: 0.0090 - val_loss: 0.0015\n",
      "Epoch 5/100\n",
      "2097/2097 [==============================] - 8s 4ms/step - loss: 0.0079 - val_loss: 0.0015\n",
      "Epoch 6/100\n",
      "2097/2097 [==============================] - 8s 4ms/step - loss: 0.0071 - val_loss: 0.0016\n",
      "Epoch 7/100\n",
      "2097/2097 [==============================] - 8s 4ms/step - loss: 0.0070 - val_loss: 0.0015\n",
      "Epoch 8/100\n",
      "2097/2097 [==============================] - 8s 4ms/step - loss: 0.0067 - val_loss: 0.0015\n",
      "Epoch 9/100\n",
      "2097/2097 [==============================] - 8s 4ms/step - loss: 0.0066 - val_loss: 0.0020\n",
      "Epoch 10/100\n",
      "2097/2097 [==============================] - 8s 4ms/step - loss: 0.0067 - val_loss: 0.0019\n",
      "Epoch 11/100\n",
      "2097/2097 [==============================] - 8s 4ms/step - loss: 0.0065 - val_loss: 0.0013\n",
      "Epoch 12/100\n",
      "2097/2097 [==============================] - 8s 4ms/step - loss: 0.0070 - val_loss: 0.0019\n",
      "Epoch 13/100\n",
      "2097/2097 [==============================] - 8s 4ms/step - loss: 0.0058 - val_loss: 0.0027\n",
      "Epoch 14/100\n",
      "2097/2097 [==============================] - 8s 4ms/step - loss: 0.0058 - val_loss: 0.0035\n",
      "Epoch 15/100\n",
      "2097/2097 [==============================] - 8s 4ms/step - loss: 0.0058 - val_loss: 0.0019\n",
      "Epoch 16/100\n",
      "2097/2097 [==============================] - 8s 4ms/step - loss: 0.0059 - val_loss: 0.0017\n",
      "Epoch 17/100\n",
      "2097/2097 [==============================] - 8s 4ms/step - loss: 0.0052 - val_loss: 0.0016\n",
      "Epoch 18/100\n",
      "2097/2097 [==============================] - 8s 4ms/step - loss: 0.0054 - val_loss: 0.0052\n",
      "Epoch 19/100\n",
      "2097/2097 [==============================] - 8s 4ms/step - loss: 0.0050 - val_loss: 0.0024\n",
      "Epoch 20/100\n",
      "2097/2097 [==============================] - 8s 4ms/step - loss: 0.0052 - val_loss: 0.0034\n",
      "Epoch 21/100\n",
      "2097/2097 [==============================] - 8s 4ms/step - loss: 0.0048 - val_loss: 0.0039\n",
      "Epoch 22/100\n",
      "2097/2097 [==============================] - 8s 4ms/step - loss: 0.0048 - val_loss: 0.0036\n",
      "Epoch 23/100\n",
      "2097/2097 [==============================] - 8s 4ms/step - loss: 0.0046 - val_loss: 0.0020\n",
      "Epoch 24/100\n",
      "2097/2097 [==============================] - 8s 4ms/step - loss: 0.0049 - val_loss: 0.0021\n",
      "Epoch 25/100\n",
      "2097/2097 [==============================] - 8s 4ms/step - loss: 0.0042 - val_loss: 0.0065\n",
      "Epoch 26/100\n",
      "2097/2097 [==============================] - 8s 4ms/step - loss: 0.0046 - val_loss: 0.0032\n",
      "Epoch 27/100\n",
      "2097/2097 [==============================] - 8s 4ms/step - loss: 0.0045 - val_loss: 0.0021\n",
      "Epoch 28/100\n",
      "2097/2097 [==============================] - 8s 4ms/step - loss: 0.0043 - val_loss: 0.0036\n",
      "Epoch 29/100\n",
      "2097/2097 [==============================] - 8s 4ms/step - loss: 0.0040 - val_loss: 0.0046\n",
      "Epoch 30/100\n",
      "2097/2097 [==============================] - 8s 4ms/step - loss: 0.0043 - val_loss: 0.0043\n",
      "Epoch 31/100\n",
      "2097/2097 [==============================] - 8s 4ms/step - loss: 0.0043 - val_loss: 0.0036\n",
      "Epoch 32/100\n",
      "2097/2097 [==============================] - 8s 4ms/step - loss: 0.0044 - val_loss: 0.0044\n",
      "Epoch 33/100\n",
      "2097/2097 [==============================] - 8s 4ms/step - loss: 0.0040 - val_loss: 0.0025\n",
      "Epoch 34/100\n",
      "2097/2097 [==============================] - 8s 4ms/step - loss: 0.0038 - val_loss: 0.0033\n",
      "Epoch 35/100\n",
      "2097/2097 [==============================] - 8s 4ms/step - loss: 0.0042 - val_loss: 0.0036\n",
      "Epoch 36/100\n",
      "2097/2097 [==============================] - 8s 4ms/step - loss: 0.0039 - val_loss: 0.0046\n",
      "Epoch 37/100\n",
      "2097/2097 [==============================] - 8s 4ms/step - loss: 0.0040 - val_loss: 0.0031\n",
      "Epoch 38/100\n",
      "2097/2097 [==============================] - 8s 4ms/step - loss: 0.0035 - val_loss: 0.0029\n",
      "Epoch 39/100\n",
      "2097/2097 [==============================] - 8s 4ms/step - loss: 0.0040 - val_loss: 0.0034\n",
      "Epoch 40/100\n",
      "2097/2097 [==============================] - 8s 4ms/step - loss: 0.0033 - val_loss: 0.0038\n",
      "Epoch 41/100\n",
      "2097/2097 [==============================] - 8s 4ms/step - loss: 0.0039 - val_loss: 0.0036\n",
      "Epoch 42/100\n",
      "2097/2097 [==============================] - 8s 4ms/step - loss: 0.0039 - val_loss: 0.0035\n",
      "Epoch 43/100\n",
      "2097/2097 [==============================] - 8s 4ms/step - loss: 0.0033 - val_loss: 0.0028\n",
      "Epoch 44/100\n",
      "2097/2097 [==============================] - 8s 4ms/step - loss: 0.0034 - val_loss: 0.0042\n",
      "Epoch 45/100\n",
      "2097/2097 [==============================] - 8s 4ms/step - loss: 0.0034 - val_loss: 0.0036\n",
      "Epoch 46/100\n",
      "2097/2097 [==============================] - 8s 4ms/step - loss: 0.0035 - val_loss: 0.0033\n",
      "Epoch 47/100\n",
      "2097/2097 [==============================] - 8s 4ms/step - loss: 0.0037 - val_loss: 0.0034\n",
      "Epoch 48/100\n",
      "2097/2097 [==============================] - 8s 4ms/step - loss: 0.0034 - val_loss: 0.0035\n",
      "Epoch 49/100\n",
      "2097/2097 [==============================] - 8s 4ms/step - loss: 0.0034 - val_loss: 0.0040\n",
      "Epoch 50/100\n",
      "2097/2097 [==============================] - 8s 4ms/step - loss: 0.0034 - val_loss: 0.0033\n",
      "Epoch 51/100\n",
      "2097/2097 [==============================] - 8s 4ms/step - loss: 0.0030 - val_loss: 0.0043\n",
      "Epoch 52/100\n",
      "2097/2097 [==============================] - 8s 4ms/step - loss: 0.0037 - val_loss: 0.0035\n",
      "Epoch 53/100\n",
      "2097/2097 [==============================] - 8s 4ms/step - loss: 0.0033 - val_loss: 0.0033\n",
      "Epoch 54/100\n",
      "2097/2097 [==============================] - 8s 4ms/step - loss: 0.0031 - val_loss: 0.0040\n",
      "Epoch 55/100\n",
      "2097/2097 [==============================] - 8s 4ms/step - loss: 0.0036 - val_loss: 0.0045\n",
      "Epoch 56/100\n",
      "2097/2097 [==============================] - 8s 4ms/step - loss: 0.0030 - val_loss: 0.0027\n",
      "Epoch 57/100\n",
      "2097/2097 [==============================] - 8s 4ms/step - loss: 0.0028 - val_loss: 0.0035\n",
      "Epoch 58/100\n",
      "2097/2097 [==============================] - 8s 4ms/step - loss: 0.0031 - val_loss: 0.0047\n",
      "Epoch 59/100\n",
      "2097/2097 [==============================] - 8s 4ms/step - loss: 0.0031 - val_loss: 0.0031\n",
      "Epoch 60/100\n",
      "2097/2097 [==============================] - 8s 4ms/step - loss: 0.0031 - val_loss: 0.0036\n",
      "Epoch 61/100\n",
      "2097/2097 [==============================] - 8s 4ms/step - loss: 0.0029 - val_loss: 0.0033\n",
      "Epoch 62/100\n",
      "2097/2097 [==============================] - 8s 4ms/step - loss: 0.0031 - val_loss: 0.0027\n",
      "Epoch 63/100\n",
      "2097/2097 [==============================] - 8s 4ms/step - loss: 0.0030 - val_loss: 0.0033\n",
      "Epoch 64/100\n",
      "2097/2097 [==============================] - 8s 4ms/step - loss: 0.0030 - val_loss: 0.0035\n",
      "Epoch 65/100\n",
      "2097/2097 [==============================] - 8s 4ms/step - loss: 0.0031 - val_loss: 0.0039\n",
      "Epoch 66/100\n",
      "2097/2097 [==============================] - 8s 4ms/step - loss: 0.0029 - val_loss: 0.0038\n",
      "Epoch 67/100\n",
      "2097/2097 [==============================] - 8s 4ms/step - loss: 0.0031 - val_loss: 0.0041\n",
      "Epoch 68/100\n",
      "2097/2097 [==============================] - 8s 4ms/step - loss: 0.0029 - val_loss: 0.0034\n",
      "Epoch 69/100\n",
      "2097/2097 [==============================] - 8s 4ms/step - loss: 0.0034 - val_loss: 0.0043\n",
      "Epoch 70/100\n",
      "2097/2097 [==============================] - 8s 4ms/step - loss: 0.0030 - val_loss: 0.0042\n",
      "Epoch 71/100\n",
      "2097/2097 [==============================] - 8s 4ms/step - loss: 0.0032 - val_loss: 0.0037\n",
      "Epoch 72/100\n",
      "2097/2097 [==============================] - 8s 4ms/step - loss: 0.0031 - val_loss: 0.0037\n",
      "Epoch 73/100\n",
      "2097/2097 [==============================] - 8s 4ms/step - loss: 0.0031 - val_loss: 0.0040\n",
      "Epoch 74/100\n",
      "2097/2097 [==============================] - 8s 4ms/step - loss: 0.0031 - val_loss: 0.0041\n",
      "Epoch 75/100\n",
      "2097/2097 [==============================] - 8s 4ms/step - loss: 0.0031 - val_loss: 0.0031\n",
      "Epoch 76/100\n",
      "2097/2097 [==============================] - 8s 4ms/step - loss: 0.0029 - val_loss: 0.0033\n",
      "Epoch 77/100\n",
      "2097/2097 [==============================] - 8s 4ms/step - loss: 0.0030 - val_loss: 0.0037\n",
      "Epoch 78/100\n",
      "2097/2097 [==============================] - 8s 4ms/step - loss: 0.0029 - val_loss: 0.0038\n",
      "Epoch 79/100\n",
      "2097/2097 [==============================] - 8s 4ms/step - loss: 0.0029 - val_loss: 0.0039\n"
     ]
    },
    {
     "name": "stdout",
     "output_type": "stream",
     "text": [
      "Epoch 80/100\n",
      "2097/2097 [==============================] - 8s 4ms/step - loss: 0.0029 - val_loss: 0.0038\n",
      "Epoch 81/100\n",
      "2097/2097 [==============================] - 8s 4ms/step - loss: 0.0031 - val_loss: 0.0035\n",
      "Epoch 82/100\n",
      "2097/2097 [==============================] - 8s 4ms/step - loss: 0.0032 - val_loss: 0.0037\n",
      "Epoch 83/100\n",
      "2097/2097 [==============================] - 8s 4ms/step - loss: 0.0028 - val_loss: 0.0035\n",
      "Epoch 84/100\n",
      "2097/2097 [==============================] - 8s 4ms/step - loss: 0.0031 - val_loss: 0.0036\n",
      "Epoch 85/100\n",
      "2097/2097 [==============================] - 8s 4ms/step - loss: 0.0028 - val_loss: 0.0039\n",
      "Epoch 86/100\n",
      "2097/2097 [==============================] - 8s 4ms/step - loss: 0.0030 - val_loss: 0.0040\n",
      "Epoch 87/100\n",
      "2097/2097 [==============================] - 8s 4ms/step - loss: 0.0029 - val_loss: 0.0034\n",
      "Epoch 88/100\n",
      "2097/2097 [==============================] - 8s 4ms/step - loss: 0.0030 - val_loss: 0.0037\n",
      "Epoch 89/100\n",
      "2097/2097 [==============================] - 8s 4ms/step - loss: 0.0030 - val_loss: 0.0032\n",
      "Epoch 90/100\n",
      "2097/2097 [==============================] - 8s 4ms/step - loss: 0.0031 - val_loss: 0.0037\n",
      "Epoch 91/100\n",
      "2097/2097 [==============================] - 8s 4ms/step - loss: 0.0029 - val_loss: 0.0036\n",
      "Epoch 92/100\n",
      "2097/2097 [==============================] - 8s 4ms/step - loss: 0.0031 - val_loss: 0.0042\n",
      "Epoch 93/100\n",
      "2097/2097 [==============================] - 8s 4ms/step - loss: 0.0030 - val_loss: 0.0039\n",
      "Epoch 94/100\n",
      "2097/2097 [==============================] - 8s 4ms/step - loss: 0.0031 - val_loss: 0.0038\n",
      "Epoch 95/100\n",
      "2097/2097 [==============================] - 8s 4ms/step - loss: 0.0030 - val_loss: 0.0036\n",
      "Epoch 96/100\n",
      "2097/2097 [==============================] - 8s 4ms/step - loss: 0.0030 - val_loss: 0.0039\n",
      "Epoch 97/100\n",
      "2097/2097 [==============================] - 8s 4ms/step - loss: 0.0032 - val_loss: 0.0035\n",
      "Epoch 98/100\n",
      "2097/2097 [==============================] - 8s 4ms/step - loss: 0.0029 - val_loss: 0.0040\n",
      "Epoch 99/100\n",
      "2097/2097 [==============================] - 8s 4ms/step - loss: 0.0030 - val_loss: 0.0038\n",
      "Epoch 100/100\n",
      "2097/2097 [==============================] - 8s 4ms/step - loss: 0.0029 - val_loss: 0.0040\n"
     ]
    }
   ],
   "source": [
    "#Train the model\n",
    "FC_info=FC.fit(x_train, y_train, batch_size=1, epochs=100,verbose=1, shuffle=False, validation_split=0.1)"
   ]
  },
  {
   "cell_type": "code",
   "execution_count": 12,
   "metadata": {},
   "outputs": [],
   "source": [
    "ohe=enc.transform([['CPU 3a','RAM 4','S 6','GPU 1','15','HD+','Non-Touch','DE']]).toarray()"
   ]
  },
  {
   "cell_type": "code",
   "execution_count": null,
   "metadata": {},
   "outputs": [],
   "source": [
    "ohe.shape"
   ]
  },
  {
   "cell_type": "code",
   "execution_count": 13,
   "metadata": {},
   "outputs": [
    {
     "name": "stdout",
     "output_type": "stream",
     "text": [
      "697.47034\n",
      "447.22\n"
     ]
    }
   ],
   "source": [
    "pred_price = FC.predict(ohe)\n",
    "#undo the scaling \n",
    "pred_price = scaler.inverse_transform(pred_price)\n",
    "print(pred_price[0][0])\n",
    "print(Y[0])"
   ]
  }
 ],
 "metadata": {
  "kernelspec": {
   "display_name": "Python 3",
   "language": "python",
   "name": "python3"
  },
  "language_info": {
   "codemirror_mode": {
    "name": "ipython",
    "version": 3
   },
   "file_extension": ".py",
   "mimetype": "text/x-python",
   "name": "python",
   "nbconvert_exporter": "python",
   "pygments_lexer": "ipython3",
   "version": "3.6.9"
  }
 },
 "nbformat": 4,
 "nbformat_minor": 2
}
